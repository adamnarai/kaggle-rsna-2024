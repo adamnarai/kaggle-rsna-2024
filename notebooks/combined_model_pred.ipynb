{
 "cells": [
  {
   "cell_type": "code",
   "execution_count": null,
   "metadata": {},
   "outputs": [],
   "source": [
    "import os\n",
    "import json\n",
    "import pandas as pd\n",
    "import numpy as np\n",
    "import matplotlib.pyplot as plt\n",
    "import pydicom\n",
    "import torch\n",
    "import random\n",
    "from tqdm import tqdm\n",
    "from torch.nn import CrossEntropyLoss\n",
    "import logging\n",
    "import cv2\n",
    "\n",
    "cv2.setNumThreads(0)\n",
    "cv2.ocl.setUseOpenCL(False)\n",
    "\n",
    "os.environ[\"OMP_NUM_THREADS\"] = \"1\"\n",
    "os.environ[\"OPENBLAS_NUM_THREADS\"] = \"1\"\n",
    "os.environ[\"MKL_NUM_THREADS\"] = \"1\"\n",
    "os.environ[\"VECLIB_MAXIMUM_THREADS\"] = \"1\"\n",
    "os.environ[\"NUMEXPR_NUM_THREADS\"] = \"1\"\n",
    "\n",
    "logging.getLogger('albumentations').setLevel(logging.WARNING)\n",
    "from albumentations.pytorch import ToTensorV2\n",
    "\n",
    "from rsna2024.runner import Runner\n",
    "from rsna2024.preproc.generate_tiles import get_tile\n",
    "from rsna2024 import model as module_model\n",
    "from rsna2024.utils import (\n",
    "    rsna_lumbar_metric,\n",
    "    natural_sort,\n",
    "    sagi_coord_to_axi_instance_number,\n",
    "    get_series,\n",
    ")\n",
    "\n",
    "root_dir = '/media/latlab/MR/projects/kaggle-rsna-2024'\n",
    "data_dir = os.path.join(root_dir, 'data', 'raw')\n",
    "img_dir = os.path.join(data_dir, 'train_images')\n",
    "df_series = pd.read_csv(\n",
    "    os.path.join(data_dir, 'train_series_descriptions.csv'),\n",
    "    dtype={'study_id': 'str', 'series_id': 'str'},\n",
    ")\n",
    "device = torch.device('cuda:0' if torch.cuda.is_available() else 'cpu')\n",
    "\n",
    "levels = ['L1/L2', 'L2/L3', 'L3/L4', 'L4/L5', 'L5/S1']\n",
    "sides = ['left', 'right']\n",
    "coord_df = pd.read_csv(\n",
    "    os.path.join(root_dir, 'data', 'processed', 'train_label_coordinates_predicted.csv')\n",
    ")\n",
    "\n",
    "\n",
    "def load_config(config_path):\n",
    "    with open(config_path) as f:\n",
    "        return json.load(f)\n",
    "\n",
    "\n",
    "def get_metric(y_true, y_pred):\n",
    "    solution, submission = rsna_lumbar_metric.prepare_data(y_true, y_pred)\n",
    "    metric = rsna_lumbar_metric.score(\n",
    "        solution=solution,\n",
    "        submission=submission,\n",
    "        row_id_column_name='row_id',\n",
    "        any_severe_scalar=1.0,\n",
    "    )\n",
    "    return metric\n",
    "\n",
    "def print_loss(orig_baseline_preds, baseline_preds, baseline_ys, idx):\n",
    "    orig_baseline_loss = CrossEntropyLoss(weight=torch.tensor([1.0, 2.0, 4.0]).to(device))(orig_baseline_preds[..., idx], baseline_ys[..., idx])\n",
    "    baseline_loss = CrossEntropyLoss(weight=torch.tensor([1.0, 2.0, 4.0]).to(device))(baseline_preds[..., idx], baseline_ys[..., idx])\n",
    "    print(f'\\nLoss: {orig_baseline_loss:.4f} -> {baseline_loss:.4f}')\n",
    "    print(f'Improvement: {orig_baseline_loss - baseline_loss:.4f}, {100 * (orig_baseline_loss - baseline_loss) / orig_baseline_loss:.2f}%')"
   ]
  },
  {
   "cell_type": "markdown",
   "metadata": {},
   "source": [
    "## Baseline model"
   ]
  },
  {
   "cell_type": "code",
   "execution_count": null,
   "metadata": {},
   "outputs": [],
   "source": [
    "model_name = 'comfy-galaxy-426'\n",
    "baseline_cfg = load_config(\n",
    "    os.path.join(root_dir, 'models', 'rsna-2024-' + model_name, 'config.json')\n",
    ")\n",
    "baseline_preds, baseline_ys, data = Runner(\n",
    "    baseline_cfg, model_name='rsna-2024-' + model_name\n",
    ").predict()\n",
    "\n",
    "baseline_preds = torch.unflatten(torch.tensor(baseline_preds).to(device), 1, [3, -1])\n",
    "orig_baseline_preds = baseline_preds.clone()\n",
    "baseline_ys = torch.tensor(baseline_ys).to(device)\n",
    "get_metric(baseline_ys, baseline_preds)"
   ]
  },
  {
   "cell_type": "markdown",
   "metadata": {},
   "source": [
    "## ROI Models\n",
    "### Spinal"
   ]
  },
  {
   "cell_type": "code",
   "execution_count": null,
   "metadata": {},
   "outputs": [],
   "source": [
    "spinal_model_name = 'fine-field-600'\n",
    "cfg = load_config(os.path.join(root_dir, 'models', 'rsna-2024-' + spinal_model_name, 'config.json'))\n",
    "spinal_preds, spinal_ys, spinal_data = Runner(\n",
    "    cfg, model_name='rsna-2024-' + spinal_model_name\n",
    ").predict(df_coordinates=coord_df)\n",
    "\n",
    "# unfolding 5 cv folds and 5 levels\n",
    "spinal_preds = np.moveaxis(spinal_preds.reshape(5, 5, -1, 3), 1, -1).reshape(-1, 3, 5)\n",
    "\n",
    "spinal_idx = np.arange(5)\n",
    "baseline_preds[..., spinal_idx] = torch.tensor(spinal_preds).to(device)\n",
    "print_loss(orig_baseline_preds, baseline_preds, baseline_ys, spinal_idx)"
   ]
  },
  {
   "cell_type": "markdown",
   "metadata": {},
   "source": [
    "### Foraminal"
   ]
  },
  {
   "cell_type": "code",
   "execution_count": null,
   "metadata": {},
   "outputs": [],
   "source": [
    "foraminal_model_name = 'devoted-pine-604'\n",
    "cfg = load_config(os.path.join(root_dir, 'models', 'rsna-2024-' + foraminal_model_name, 'config.json'))\n",
    "foraminal_preds, foraminal_ys, foraminal_data = Runner(\n",
    "    cfg, model_name='rsna-2024-' + foraminal_model_name\n",
    ").predict(df_coordinates=coord_df)\n",
    "\n",
    "# unfolding 5 cv folds, 5 levels, (study_ids) and 2 sides\n",
    "foraminal_preds = np.moveaxis(np.moveaxis(foraminal_preds.reshape(5, 5, -1, 2, 3), 3, -1), 1, -1).reshape(-1, 3, 10)\n",
    "\n",
    "foraminal_idx = np.arange(5, 15)\n",
    "baseline_preds[..., foraminal_idx] = torch.tensor(foraminal_preds).to(device)\n",
    "print_loss(orig_baseline_preds, baseline_preds, baseline_ys, foraminal_idx)"
   ]
  },
  {
   "cell_type": "markdown",
   "metadata": {},
   "source": [
    "### Subarticular"
   ]
  },
  {
   "cell_type": "code",
   "execution_count": null,
   "metadata": {},
   "outputs": [],
   "source": [
    "subarticular_model_name = 'still-dragon-595'\n",
    "cfg = load_config(os.path.join(root_dir, 'models', 'rsna-2024-' + subarticular_model_name, 'config.json'))\n",
    "subarticular_preds, subarticular_ys, subarticular_data = Runner(\n",
    "    cfg, model_name='rsna-2024-' + subarticular_model_name\n",
    ").predict(df_coordinates=coord_df)\n",
    "\n",
    "# unfolding 5 cv folds, 5 levels and 2 sides\n",
    "subarticular_preds = np.moveaxis(np.moveaxis(subarticular_preds.reshape(5, 5, -1, 2, 3), 3, -1), 1, -1).reshape(-1, 3, 10)\n",
    "\n",
    "subarticular_idx = np.arange(15, 25)\n",
    "baseline_preds[..., subarticular_idx] = torch.tensor(subarticular_preds).to(device)\n",
    "print_loss(orig_baseline_preds, baseline_preds, baseline_ys, subarticular_idx)"
   ]
  },
  {
   "cell_type": "markdown",
   "metadata": {},
   "source": [
    "### Global improvement"
   ]
  },
  {
   "cell_type": "code",
   "execution_count": null,
   "metadata": {},
   "outputs": [],
   "source": [
    "print_loss(orig_baseline_preds, baseline_preds, baseline_ys, np.arange(25))\n",
    "\n",
    "orig_baseline_metric = get_metric(baseline_ys, orig_baseline_preds)\n",
    "baseline_metric = get_metric(baseline_ys, baseline_preds)\n",
    "print(f'Baseline metric: {orig_baseline_metric:.4f} -> {baseline_metric:.4f}')\n",
    "print(f'Improvement: {orig_baseline_metric - baseline_metric:.4f}, {100 * (orig_baseline_metric - baseline_metric) / orig_baseline_metric:.2f}%')"
   ]
  }
 ],
 "metadata": {
  "kernelspec": {
   "display_name": "rsna_2024",
   "language": "python",
   "name": "python3"
  },
  "language_info": {
   "codemirror_mode": {
    "name": "ipython",
    "version": 3
   },
   "file_extension": ".py",
   "mimetype": "text/x-python",
   "name": "python",
   "nbconvert_exporter": "python",
   "pygments_lexer": "ipython3",
   "version": "3.12.4"
  }
 },
 "nbformat": 4,
 "nbformat_minor": 2
}
