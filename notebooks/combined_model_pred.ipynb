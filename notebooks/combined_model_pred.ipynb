{
 "cells": [
  {
   "cell_type": "code",
   "execution_count": 1,
   "metadata": {},
   "outputs": [],
   "source": [
    "import os\n",
    "import json\n",
    "import numpy as np\n",
    "import pandas as pd\n",
    "import torch\n",
    "import random\n",
    "from tqdm import tqdm\n",
    "from torch.nn import CrossEntropyLoss\n",
    "import logging\n",
    "import cv2\n",
    "\n",
    "from scipy.optimize import minimize\n",
    "from tqdm import tqdm\n",
    "from multiprocessing import Pool\n",
    "\n",
    "from rsna2024.runner import Runner\n",
    "from rsna2024.utils import rsna_lumbar_metric\n",
    "\n",
    "cv2.setNumThreads(0)\n",
    "cv2.ocl.setUseOpenCL(False)\n",
    "os.environ[\"OMP_NUM_THREADS\"] = \"1\"\n",
    "os.environ[\"OPENBLAS_NUM_THREADS\"] = \"1\"\n",
    "os.environ[\"MKL_NUM_THREADS\"] = \"1\"\n",
    "os.environ[\"VECLIB_MAXIMUM_THREADS\"] = \"1\"\n",
    "os.environ[\"NUMEXPR_NUM_THREADS\"] = \"1\"\n",
    "\n",
    "logging.getLogger('albumentations').setLevel(logging.WARNING)\n",
    "\n",
    "coord_filename = 'train_label_coordinates_predicted_v2_{}_{}_{}.csv'.format(593, 654, 603)\n",
    "\n",
    "root_dir = '/media/latlab/MR/projects/kaggle-rsna-2024'\n",
    "data_dir = os.path.join(root_dir, 'data', 'raw')\n",
    "img_dir = os.path.join(data_dir, 'train_images')\n",
    "df_series = pd.read_csv(\n",
    "    os.path.join(data_dir, 'train_series_descriptions.csv'),\n",
    "    dtype={'study_id': 'str', 'series_id': 'str'},\n",
    ")\n",
    "device = torch.device('cuda:0' if torch.cuda.is_available() else 'cpu')\n",
    "\n",
    "levels = ['L1/L2', 'L2/L3', 'L3/L4', 'L4/L5', 'L5/S1']\n",
    "sides = ['left', 'right']\n",
    "coord_df = pd.read_csv(\n",
    "    os.path.join(root_dir, 'data', 'processed', coord_filename),\n",
    "    dtype={'study_id': 'str', 'series_id': 'str'},\n",
    ")\n",
    "\n",
    "\n",
    "def load_config(config_path):\n",
    "    with open(config_path) as f:\n",
    "        return json.load(f)\n",
    "\n",
    "\n",
    "def get_metric(y_true, y_pred):\n",
    "    y_true = y_true.clone()\n",
    "    y_true[y_true == -100] = 0\n",
    "    solution, submission = rsna_lumbar_metric.prepare_data(y_true, y_pred)\n",
    "    metric = rsna_lumbar_metric.score(\n",
    "        solution=solution,\n",
    "        submission=submission,\n",
    "        row_id_column_name='row_id',\n",
    "        any_severe_scalar=1.0,\n",
    "    )\n",
    "    return metric\n",
    "\n",
    "\n",
    "def print_loss(baseline_loss, preds, ys):\n",
    "    loss = CrossEntropyLoss(weight=torch.tensor([1.0, 2.0, 4.0]).to(device))(\n",
    "        torch.tensor(preds).to(device), torch.tensor(ys).to(device)\n",
    "    )\n",
    "    print(f'\\nLoss: {baseline_loss:.4f} -> {loss:.4f}')\n",
    "    print(\n",
    "        f'Improvement: {baseline_loss - loss:.4f}, {100 * (baseline_loss - loss) / baseline_loss:.1f}%'\n",
    "    )\n",
    "\n",
    "\n",
    "spinal_baseline, foraminal_baseline, subarticular_baseline = None, None, None"
   ]
  },
  {
   "cell_type": "markdown",
   "metadata": {},
   "source": [
    "## Split ROI Models\n",
    "### Spinal"
   ]
  },
  {
   "cell_type": "code",
   "execution_count": null,
   "metadata": {},
   "outputs": [],
   "source": [
    "spinal_model_name = 'giddy-monkey-1266'\n",
    "cfg = load_config(os.path.join(root_dir, 'models', 'rsna-2024-' + spinal_model_name, 'config.json'))\n",
    "spinal_preds, spinal_ys, spinal_data = Runner(\n",
    "    cfg, model_name='rsna-2024-' + spinal_model_name\n",
    ").predict(df_coordinates=coord_df)\n",
    "\n",
    "# unfolding 5 cv folds and 5 levels\n",
    "spinal_preds = np.moveaxis(spinal_preds.reshape(5, 5, -1, 3), 1, -1).reshape(-1, 3, 5)\n",
    "spinal_ys = np.moveaxis(spinal_ys.reshape(5, 5, -1), 1, -1).reshape(-1, 5)\n",
    "\n",
    "spinal_baseline = 0.2714\n",
    "print_loss(spinal_baseline, spinal_preds, spinal_ys)"
   ]
  },
  {
   "cell_type": "markdown",
   "metadata": {},
   "source": [
    "### Foraminal"
   ]
  },
  {
   "cell_type": "code",
   "execution_count": null,
   "metadata": {},
   "outputs": [],
   "source": [
    "foraminal_model_name = 'hardy-voice-1244'\n",
    "cfg = load_config(os.path.join(root_dir, 'models', 'rsna-2024-' + foraminal_model_name, 'config.json'))\n",
    "foraminal_preds, foraminal_ys, foraminal_data = Runner(\n",
    "    cfg, model_name='rsna-2024-' + foraminal_model_name\n",
    ").predict(df_coordinates=coord_df)\n",
    "\n",
    "# unfolding 5 cv folds, 5 levels, (study_ids) and 2 sides\n",
    "foraminal_preds = np.moveaxis(np.moveaxis(foraminal_preds.reshape(5, 5, -1, 2, 3), 3, -1), 1, -1).reshape(-1, 3, 10)\n",
    "foraminal_ys = np.moveaxis(np.moveaxis(foraminal_ys.reshape(5, 5, -1, 2), 3, -1), 1, -1).reshape(-1, 10)\n",
    "\n",
    "foraminal_baseline = 0.5308\n",
    "print_loss(foraminal_baseline, foraminal_preds, foraminal_ys)"
   ]
  },
  {
   "cell_type": "markdown",
   "metadata": {},
   "source": [
    "### Subarticular"
   ]
  },
  {
   "cell_type": "code",
   "execution_count": null,
   "metadata": {},
   "outputs": [],
   "source": [
    "subarticular_model_name = 'fiery-meadow-1254'\n",
    "cfg = load_config(\n",
    "    os.path.join(root_dir, 'models', 'rsna-2024-' + subarticular_model_name, 'config.json')\n",
    ")\n",
    "subarticular_preds, subarticular_ys, subarticular_data = Runner(\n",
    "    cfg, model_name='rsna-2024-' + subarticular_model_name\n",
    ").predict(df_coordinates=coord_df)\n",
    "\n",
    "# unfolding 5 cv folds, 5 levels and 2 sides\n",
    "subarticular_preds = np.moveaxis(\n",
    "    np.moveaxis(subarticular_preds.reshape(5, 5, -1, 2, 3), 3, -1), 1, -1\n",
    ").reshape(-1, 3, 10)\n",
    "subarticular_ys = np.moveaxis(\n",
    "    np.moveaxis(subarticular_ys.reshape(5, 5, -1, 2), 3, -1), 1, -1\n",
    ").reshape(-1, 10)\n",
    "\n",
    "subarticular_baseline = 0.5807\n",
    "print_loss(subarticular_baseline, subarticular_preds, subarticular_ys)"
   ]
  },
  {
   "cell_type": "markdown",
   "metadata": {},
   "source": [
    "### Combined"
   ]
  },
  {
   "cell_type": "code",
   "execution_count": null,
   "metadata": {},
   "outputs": [],
   "source": [
    "preds = torch.tensor(np.concatenate([spinal_preds, foraminal_preds, subarticular_preds], axis=-1)).to(device)\n",
    "ys = torch.tensor(np.concatenate([spinal_ys, foraminal_ys, subarticular_ys], axis=-1)).to(device)\n",
    "\n",
    "baseline_metric = 0.4151\n",
    "metric = get_metric(ys, preds)\n",
    "print(f'Baseline metric: {baseline_metric:.4f} -> {metric:.4f}')\n",
    "print(f'Improvement: {baseline_metric - metric:.4f}, {100 * (baseline_metric - metric) / baseline_metric:.1f}%')"
   ]
  },
  {
   "cell_type": "markdown",
   "metadata": {},
   "source": [
    "## Global ROI model"
   ]
  },
  {
   "cell_type": "code",
   "execution_count": null,
   "metadata": {},
   "outputs": [],
   "source": [
    "model_name = 'dashing-spaceship-1252'\n",
    "cfg = load_config(os.path.join(root_dir, 'models', 'rsna-2024-' + model_name, 'config.json'))\n",
    "preds_global, ys_global, data_global = Runner(cfg, model_name='rsna-2024-' + model_name).predict(df_coordinates=coord_df)\n",
    "\n",
    "# unfolding 5 cv folds and 5 levels\n",
    "preds_global = np.moveaxis(preds_global.reshape(5, 5, -1, 3, 5), 1, -1).reshape(-1, 3, 25)\n",
    "ys_global = np.moveaxis(ys_global.reshape(5, 5, -1, 5), 1, -1).reshape(-1, 25)\n",
    "\n",
    "if spinal_baseline is None:\n",
    "    spinal_baseline = 0.2739\n",
    "if foraminal_baseline is None:\n",
    "    foraminal_baseline = 0.5183\n",
    "if subarticular_baseline is None:\n",
    "    subarticular_baseline = 0.5855\n",
    "print_loss(spinal_baseline, preds_global[..., :5], ys_global[..., :5])\n",
    "print_loss(foraminal_baseline, preds_global[..., 5:15], ys_global[..., 5:15])\n",
    "print_loss(subarticular_baseline, preds_global[..., 15:], ys_global[..., 15:])\n",
    "\n",
    "global_baseline = 0.4184\n",
    "preds_global = torch.tensor(preds_global).to(device)\n",
    "ys_global = torch.tensor(ys_global).to(device)\n",
    "global_metric = get_metric(ys_global, preds_global)\n",
    "print(f'\\nGlobal metric: {global_baseline:.4f} -> {global_metric:.4f}')\n",
    "print(f'Improvement: {global_baseline - global_metric:.4f}, {100 * (global_baseline - global_metric) / global_baseline:.1f}%')"
   ]
  },
  {
   "cell_type": "markdown",
   "metadata": {},
   "source": [
    "## Ensemble"
   ]
  },
  {
   "cell_type": "code",
   "execution_count": null,
   "metadata": {},
   "outputs": [],
   "source": [
    "idx = [data_global['study_id'].tolist().index(i) for i in spinal_data['study_id'].tolist()]\n",
    "preds_global_sorted = preds_global[idx]\n",
    "ys_global_sorted = ys_global[idx]\n",
    "\n",
    "assert torch.equal(ys, ys_global_sorted)\n",
    "preds_ensemble = (preds + preds_global_sorted) / 2\n",
    "\n",
    "baseline_metric = min(metric, global_metric)\n",
    "ensemble_metric = get_metric(ys, preds_ensemble)\n",
    "print(f'\\nGlobal metric: {baseline_metric:.4f} -> {ensemble_metric:.4f}')\n",
    "print(f'Improvement: {baseline_metric - ensemble_metric:.4f}, {100 * (baseline_metric - ensemble_metric) / baseline_metric:.1f}%')"
   ]
  }
 ],
 "metadata": {
  "kernelspec": {
   "display_name": "rsna_2024",
   "language": "python",
   "name": "python3"
  },
  "language_info": {
   "codemirror_mode": {
    "name": "ipython",
    "version": 3
   },
   "file_extension": ".py",
   "mimetype": "text/x-python",
   "name": "python",
   "nbconvert_exporter": "python",
   "pygments_lexer": "ipython3",
   "version": "3.12.4"
  }
 },
 "nbformat": 4,
 "nbformat_minor": 2
}
