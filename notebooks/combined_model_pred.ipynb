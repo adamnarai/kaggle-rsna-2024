{
 "cells": [
  {
   "cell_type": "code",
   "execution_count": null,
   "metadata": {},
   "outputs": [],
   "source": [
    "import os\n",
    "import json\n",
    "import pandas as pd\n",
    "import numpy as np\n",
    "import matplotlib.pyplot as plt\n",
    "import pydicom\n",
    "import torch\n",
    "import random\n",
    "from tqdm import tqdm\n",
    "from torch.nn import CrossEntropyLoss\n",
    "import logging\n",
    "import cv2\n",
    "\n",
    "cv2.setNumThreads(0)\n",
    "cv2.ocl.setUseOpenCL(False)\n",
    "\n",
    "os.environ[\"OMP_NUM_THREADS\"] = \"1\"\n",
    "os.environ[\"OPENBLAS_NUM_THREADS\"] = \"1\"\n",
    "os.environ[\"MKL_NUM_THREADS\"] = \"1\"\n",
    "os.environ[\"VECLIB_MAXIMUM_THREADS\"] = \"1\"\n",
    "os.environ[\"NUMEXPR_NUM_THREADS\"] = \"1\"\n",
    "\n",
    "logging.getLogger('albumentations').setLevel(logging.WARNING)\n",
    "from albumentations.pytorch import ToTensorV2\n",
    "\n",
    "from rsna2024.runner import Runner\n",
    "from rsna2024.preproc.generate_tiles import get_tile\n",
    "from rsna2024 import model as module_model\n",
    "from rsna2024.utils import (\n",
    "    rsna_lumbar_metric,\n",
    "    natural_sort,\n",
    "    sagi_coord_to_axi_instance_number,\n",
    "    get_series,\n",
    ")\n",
    "\n",
    "coord_filename = 'train_label_coordinates_predicted_{}_{}_{}.csv'.format(593, 654, 603)\n",
    "\n",
    "root_dir = '/media/latlab/MR/projects/kaggle-rsna-2024'\n",
    "data_dir = os.path.join(root_dir, 'data', 'raw')\n",
    "img_dir = os.path.join(data_dir, 'train_images')\n",
    "df_series = pd.read_csv(\n",
    "    os.path.join(data_dir, 'train_series_descriptions.csv'),\n",
    "    dtype={'study_id': 'str', 'series_id': 'str'},\n",
    ")\n",
    "device = torch.device('cuda:0' if torch.cuda.is_available() else 'cpu')\n",
    "\n",
    "levels = ['L1/L2', 'L2/L3', 'L3/L4', 'L4/L5', 'L5/S1']\n",
    "sides = ['left', 'right']\n",
    "coord_df = pd.read_csv(\n",
    "    os.path.join(root_dir, 'data', 'processed', coord_filename),\n",
    "    dtype={'study_id': 'str', 'series_id': 'str'}\n",
    ")\n",
    "\n",
    "\n",
    "def load_config(config_path):\n",
    "    with open(config_path) as f:\n",
    "        return json.load(f)\n",
    "\n",
    "\n",
    "def get_metric(y_true, y_pred):\n",
    "    solution, submission = rsna_lumbar_metric.prepare_data(y_true, y_pred)\n",
    "    metric = rsna_lumbar_metric.score(\n",
    "        solution=solution,\n",
    "        submission=submission,\n",
    "        row_id_column_name='row_id',\n",
    "        any_severe_scalar=1.0,\n",
    "    )\n",
    "    return metric\n",
    "\n",
    "def print_loss(orig_baseline_loss, preds, ys):\n",
    "    baseline_loss = CrossEntropyLoss(weight=torch.tensor([1.0, 2.0, 4.0]).to(device))(torch.tensor(preds).to(device), torch.tensor(ys).to(device))\n",
    "    print(f'\\nLoss: {orig_baseline_loss:.4f} -> {baseline_loss:.4f}')\n",
    "    print(f'Improvement: {orig_baseline_loss - baseline_loss:.4f}, {100 * (orig_baseline_loss - baseline_loss) / orig_baseline_loss:.1f}%')"
   ]
  },
  {
   "cell_type": "markdown",
   "metadata": {},
   "source": [
    "## ROI Models\n",
    "### Spinal"
   ]
  },
  {
   "cell_type": "code",
   "execution_count": null,
   "metadata": {},
   "outputs": [],
   "source": [
    "spinal_model_name = 'vague-glitter-719' #'vague-glitter-719' 0.2909 'comic-snowball-706' # 0.2918 # fine-field-600 0.3063\n",
    "cfg = load_config(os.path.join(root_dir, 'models', 'rsna-2024-' + spinal_model_name, 'config.json'))\n",
    "spinal_preds, spinal_ys, spinal_data = Runner(\n",
    "    cfg, model_name='rsna-2024-' + spinal_model_name\n",
    ").predict(df_coordinates=coord_df)\n",
    "\n",
    "# unfolding 5 cv folds and 5 levels\n",
    "spinal_preds = np.moveaxis(spinal_preds.reshape(5, 5, -1, 3), 1, -1).reshape(-1, 3, 5)\n",
    "spinal_ys = np.moveaxis(spinal_ys.reshape(5, 5, -1), 1, -1).reshape(-1, 5)\n",
    "\n",
    "print_loss(0.2909, spinal_preds, spinal_ys)"
   ]
  },
  {
   "cell_type": "markdown",
   "metadata": {},
   "source": [
    "### Foraminal"
   ]
  },
  {
   "cell_type": "code",
   "execution_count": null,
   "metadata": {},
   "outputs": [],
   "source": [
    "foraminal_model_name = 'eager-brook-732' #'eager-brook-732' #0.5272 # winter-thunder-708# 0.5272  #helpful-bush-662 0.5422 #'exalted-rain-631' 0.5551\n",
    "cfg = load_config(os.path.join(root_dir, 'models', 'rsna-2024-' + foraminal_model_name, 'config.json'))\n",
    "foraminal_preds, foraminal_ys, foraminal_data = Runner(\n",
    "    cfg, model_name='rsna-2024-' + foraminal_model_name\n",
    ").predict(df_coordinates=coord_df)\n",
    "\n",
    "# unfolding 5 cv folds, 5 levels, (study_ids) and 2 sides\n",
    "foraminal_preds = np.moveaxis(np.moveaxis(foraminal_preds.reshape(5, 5, -1, 2, 3), 3, -1), 1, -1).reshape(-1, 3, 10)\n",
    "foraminal_ys = np.moveaxis(np.moveaxis(foraminal_ys.reshape(5, 5, -1, 2), 3, -1), 1, -1).reshape(-1, 10)\n",
    "\n",
    "print_loss(0.5272, foraminal_preds, foraminal_ys)"
   ]
  },
  {
   "cell_type": "markdown",
   "metadata": {},
   "source": [
    "### Subarticular"
   ]
  },
  {
   "cell_type": "code",
   "execution_count": null,
   "metadata": {},
   "outputs": [],
   "source": [
    "subarticular_model_name = 'icy-lake-742' #'icy-lake-742' 0.5978 # 'efficient-puddle-714' 0.6056 #'bumbling-meadow-608' 0.6334 flowing-haze-618\n",
    "cfg = load_config(os.path.join(root_dir, 'models', 'rsna-2024-' + subarticular_model_name, 'config.json'))\n",
    "subarticular_preds, subarticular_ys, subarticular_data = Runner(\n",
    "    cfg, model_name='rsna-2024-' + subarticular_model_name\n",
    ").predict(df_coordinates=coord_df)\n",
    "\n",
    "# unfolding 5 cv folds, 5 levels and 2 sides\n",
    "subarticular_preds = np.moveaxis(np.moveaxis(subarticular_preds.reshape(5, 5, -1, 2, 3), 3, -1), 1, -1).reshape(-1, 3, 10)\n",
    "subarticular_ys = np.moveaxis(np.moveaxis(subarticular_ys.reshape(5, 5, -1, 2), 3, -1), 1, -1).reshape(-1, 10)\n",
    "\n",
    "print_loss(0.5978, subarticular_preds, subarticular_ys)"
   ]
  },
  {
   "cell_type": "markdown",
   "metadata": {},
   "source": [
    "### Global improvement"
   ]
  },
  {
   "cell_type": "code",
   "execution_count": null,
   "metadata": {},
   "outputs": [],
   "source": [
    "preds = torch.tensor(np.concatenate([spinal_preds, foraminal_preds, subarticular_preds], axis=-1)).to(device)\n",
    "ys = torch.tensor(np.concatenate([spinal_ys, foraminal_ys, subarticular_ys], axis=-1)).to(device)\n",
    "\n",
    "baseline_metric = 0.4267\n",
    "metric = get_metric(ys, preds)\n",
    "print(f'Baseline metric: {baseline_metric:.4f} -> {metric:.4f}')\n",
    "print(f'Improvement: {baseline_metric - metric:.4f}, {100 * (baseline_metric - metric) / baseline_metric:.1f}%')"
   ]
  }
 ],
 "metadata": {
  "kernelspec": {
   "display_name": "rsna_2024",
   "language": "python",
   "name": "python3"
  },
  "language_info": {
   "codemirror_mode": {
    "name": "ipython",
    "version": 3
   },
   "file_extension": ".py",
   "mimetype": "text/x-python",
   "name": "python",
   "nbconvert_exporter": "python",
   "pygments_lexer": "ipython3",
   "version": "3.12.4"
  }
 },
 "nbformat": 4,
 "nbformat_minor": 2
}
