{
 "cells": [
  {
   "cell_type": "code",
   "execution_count": 1,
   "metadata": {},
   "outputs": [],
   "source": [
    "import os\n",
    "import json\n",
    "import numpy as np\n",
    "import pandas as pd\n",
    "import torch\n",
    "import random\n",
    "from tqdm import tqdm\n",
    "from torch.nn import CrossEntropyLoss\n",
    "import logging\n",
    "import cv2\n",
    "\n",
    "from scipy.optimize import minimize\n",
    "from tqdm import tqdm\n",
    "from multiprocessing import Pool\n",
    "\n",
    "from rsna2024.runner import Runner\n",
    "from rsna2024.utils import rsna_lumbar_metric\n",
    "\n",
    "cv2.setNumThreads(0)\n",
    "cv2.ocl.setUseOpenCL(False)\n",
    "os.environ[\"OMP_NUM_THREADS\"] = \"1\"\n",
    "os.environ[\"OPENBLAS_NUM_THREADS\"] = \"1\"\n",
    "os.environ[\"MKL_NUM_THREADS\"] = \"1\"\n",
    "os.environ[\"VECLIB_MAXIMUM_THREADS\"] = \"1\"\n",
    "os.environ[\"NUMEXPR_NUM_THREADS\"] = \"1\"\n",
    "\n",
    "logging.getLogger('albumentations').setLevel(logging.WARNING)\n",
    "\n",
    "coord_filename = 'train_label_coordinates_predicted_v2_{}_{}_{}.csv'.format(593, 654, 603)\n",
    "\n",
    "root_dir = '/media/latlab/MR/projects/kaggle-rsna-2024'\n",
    "data_dir = os.path.join(root_dir, 'data', 'raw')\n",
    "img_dir = os.path.join(data_dir, 'train_images')\n",
    "\n",
    "levels = ['L1/L2', 'L2/L3', 'L3/L4', 'L4/L5', 'L5/S1']\n",
    "sides = ['left', 'right']\n",
    "coord_df = pd.read_csv(\n",
    "    os.path.join(root_dir, 'data', 'processed', coord_filename),\n",
    "    dtype={'study_id': 'str', 'series_id': 'str'},\n",
    ")\n",
    "device = torch.device('cuda:0' if torch.cuda.is_available() else 'cpu')\n",
    "\n",
    "\n",
    "def load_config(config_path):\n",
    "    with open(config_path) as f:\n",
    "        return json.load(f)\n",
    "\n",
    "\n",
    "def get_metric(y_true, y_pred):\n",
    "    y_true = y_true.clone()\n",
    "    y_true[y_true == -100] = 0\n",
    "    solution, submission = rsna_lumbar_metric.prepare_data(y_true, y_pred)\n",
    "    metric = rsna_lumbar_metric.score(\n",
    "        solution=solution,\n",
    "        submission=submission,\n",
    "        row_id_column_name='row_id',\n",
    "        any_severe_scalar=1.0,\n",
    "    )\n",
    "    return metric\n",
    "\n",
    "\n",
    "model_names = {\n",
    "    'spinal': 'rsna-2024-giddy-monkey-1266',\n",
    "    'foraminal': 'rsna-2024-hardy-voice-1244',\n",
    "    'subarticular': 'rsna-2024-fiery-meadow-1254',\n",
    "    'global': 'rsna-2024-dashing-spaceship-1252',\n",
    "    \n",
    "    'spinal_2': 'rsna-2024-leafy-river-1268',\n",
    "    'foraminal_2': 'rsna-2024-snowy-oath-1251',\n",
    "    'subarticular_2': 'rsna-2024-hearty-spaceship-1256',\n",
    "    'global_2': 'rsna-2024-cool-frost-1378',\n",
    "    \n",
    "    'spinal_3': 'rsna-2024-splendid-glade-1421',\n",
    "    'foraminal_3': 'rsna-2024-blooming-gorge-1250',\n",
    "    'subarticular_3': 'rsna-2024-smooth-resonance-1422',\n",
    "    'global_3': 'rsna-2024-radiant-tree-1423',\n",
    "}"
   ]
  },
  {
   "cell_type": "markdown",
   "metadata": {},
   "source": [
    "## ROI Models\n",
    "### Spinal"
   ]
  },
  {
   "cell_type": "code",
   "execution_count": null,
   "metadata": {},
   "outputs": [],
   "source": [
    "spinal_preds_list = []\n",
    "for model_type in ['spinal', 'spinal_2', 'spinal_3']:\n",
    "    model_name = model_names[model_type]\n",
    "    cfg = load_config(os.path.join(root_dir, 'models', model_name, 'config.json'))\n",
    "    spinal_preds, spinal_ys, spinal_data = Runner(cfg, model_name=model_name).predict(\n",
    "        df_coordinates=coord_df\n",
    "    )\n",
    "    spinal_preds = np.moveaxis(spinal_preds.reshape(5, 5, -1, 3), 1, -1).reshape(-1, 3, 5)\n",
    "    spinal_ys = np.moveaxis(spinal_ys.reshape(5, 5, -1), 1, -1).reshape(-1, 5)\n",
    "    spinal_preds_list.append(torch.tensor(spinal_preds).to(device))\n",
    "spinal_ys = torch.tensor(spinal_ys).to(device)"
   ]
  },
  {
   "cell_type": "markdown",
   "metadata": {},
   "source": [
    "### Foraminal"
   ]
  },
  {
   "cell_type": "code",
   "execution_count": null,
   "metadata": {},
   "outputs": [],
   "source": [
    "foraminal_preds_list = []\n",
    "for model_type in ['foraminal', 'foraminal_2', 'foraminal_3']:\n",
    "    model_name = model_names[model_type]\n",
    "    cfg = load_config(os.path.join(root_dir, 'models', model_name, 'config.json'))\n",
    "    foraminal_preds, foraminal_ys, foraminal_data = Runner(cfg, model_name=model_name).predict(\n",
    "        df_coordinates=coord_df\n",
    "    )\n",
    "    foraminal_preds = np.moveaxis(\n",
    "        np.moveaxis(foraminal_preds.reshape(5, 5, -1, 2, 3), 3, -1), 1, -1\n",
    "    ).reshape(-1, 3, 10)\n",
    "    foraminal_ys = np.moveaxis(\n",
    "        np.moveaxis(foraminal_ys.reshape(5, 5, -1, 2), 3, -1), 1, -1\n",
    "    ).reshape(-1, 10)\n",
    "    foraminal_preds_list.append(torch.tensor(foraminal_preds).to(device))\n",
    "foraminal_ys = torch.tensor(foraminal_ys).to(device)"
   ]
  },
  {
   "cell_type": "markdown",
   "metadata": {},
   "source": [
    "### Subarticular"
   ]
  },
  {
   "cell_type": "code",
   "execution_count": null,
   "metadata": {},
   "outputs": [],
   "source": [
    "subarticular_preds_list = []\n",
    "for model_type in ['subarticular', 'subarticular_2', 'subarticular_3']:\n",
    "    model_name = model_names[model_type]\n",
    "    cfg = load_config(os.path.join(root_dir, 'models', model_name, 'config.json'))\n",
    "    subarticular_preds, subarticular_ys, subarticular_data = Runner(\n",
    "        cfg, model_name=model_name\n",
    "    ).predict(df_coordinates=coord_df)\n",
    "    subarticular_preds = np.moveaxis(\n",
    "        np.moveaxis(subarticular_preds.reshape(5, 5, -1, 2, 3), 3, -1), 1, -1\n",
    "    ).reshape(-1, 3, 10)\n",
    "    subarticular_ys = np.moveaxis(\n",
    "        np.moveaxis(subarticular_ys.reshape(5, 5, -1, 2), 3, -1), 1, -1\n",
    "    ).reshape(-1, 10)\n",
    "    subarticular_preds_list.append(torch.tensor(subarticular_preds).to(device))\n",
    "subarticular_ys = torch.tensor(subarticular_ys).to(device)"
   ]
  },
  {
   "cell_type": "markdown",
   "metadata": {},
   "source": [
    "### Global improvement"
   ]
  },
  {
   "cell_type": "code",
   "execution_count": 5,
   "metadata": {},
   "outputs": [],
   "source": [
    "preds_list = [\n",
    "    torch.concatenate(\n",
    "        [spinal_preds_list[i], foraminal_preds_list[i], subarticular_preds_list[i]], axis=-1\n",
    "    )\n",
    "    for i in range(len(spinal_preds_list))\n",
    "]\n",
    "ys = torch.concatenate([spinal_ys, foraminal_ys, subarticular_ys], axis=-1)"
   ]
  },
  {
   "cell_type": "markdown",
   "metadata": {},
   "source": [
    "## Global ROI model"
   ]
  },
  {
   "cell_type": "code",
   "execution_count": null,
   "metadata": {},
   "outputs": [],
   "source": [
    "global_preds_list = []\n",
    "for model_type in ['global', 'global_2', 'global_3']:\n",
    "    model_name = model_names[model_type]\n",
    "    cfg = load_config(os.path.join(root_dir, 'models', model_name, 'config.json'))\n",
    "    preds_global, ys_global, data_global = Runner(cfg, model_name=model_name).predict(\n",
    "        df_coordinates=coord_df\n",
    "    )\n",
    "    preds_global = np.moveaxis(preds_global.reshape(5, 5, -1, 3, 5), 1, -1).reshape(-1, 3, 25)\n",
    "    ys_global = np.moveaxis(ys_global.reshape(5, 5, -1, 5), 1, -1).reshape(-1, 25)\n",
    "    global_preds_list.append(torch.tensor(preds_global).to(device))\n",
    "ys_global = torch.tensor(ys_global).to(device)"
   ]
  },
  {
   "cell_type": "markdown",
   "metadata": {},
   "source": [
    "### Ensemble"
   ]
  },
  {
   "cell_type": "code",
   "execution_count": null,
   "metadata": {},
   "outputs": [],
   "source": [
    "assert torch.equal(ys, ys_global)\n",
    "\n",
    "\n",
    "def get_loss(ys, preds):\n",
    "    return CrossEntropyLoss(weight=torch.tensor([1.0, 2.0, 4.0]).to(device))(preds, ys).item()\n",
    "\n",
    "\n",
    "def select_list_indices(lst, indices):\n",
    "    return [lst[i] for i in indices]\n",
    "\n",
    "\n",
    "print('split models: resnet, swin, convnext')\n",
    "print('\\nspinal')\n",
    "for i in range(len(spinal_preds_list)):\n",
    "    print(get_loss(spinal_ys, spinal_preds_list[i]))\n",
    "print('\\nforaminal')\n",
    "for i in range(len(foraminal_preds_list)):\n",
    "    print(get_loss(foraminal_ys, foraminal_preds_list[i]))\n",
    "print('\\nsubarticular')\n",
    "for i in range(len(subarticular_preds_list)):\n",
    "    print(get_loss(subarticular_ys, subarticular_preds_list[i]))\n",
    "\n",
    "print('\\nall (combined) models: split resnet, swin, convnext and global resnet, swin, convnext')\n",
    "for i in range(len(preds_list)):\n",
    "    print(get_metric(ys, preds_list[i]))\n",
    "for i in range(len(global_preds_list)):\n",
    "    print(get_metric(ys, global_preds_list[i]))\n",
    "\n",
    "print('\\nresnet + swin + convnext')\n",
    "print(get_metric(ys, sum(preds_list) / 3))\n",
    "print(get_metric(ys, sum(global_preds_list) / 3))\n",
    "print(get_metric(ys, (sum(preds_list) + sum(global_preds_list)) / 6))\n",
    "\n",
    "print('\\nresnet + swin')\n",
    "print(get_metric(ys, sum(preds_list[:2]) / 2))\n",
    "print(get_metric(ys, sum(global_preds_list[:2]) / 2))\n",
    "print(get_metric(ys, (sum(preds_list[:2]) + sum(global_preds_list[:2])) / 4))\n",
    "\n",
    "print('\\nswin + convnext')\n",
    "print(get_metric(ys, sum(preds_list[1:]) / 2))\n",
    "print(get_metric(ys, sum(global_preds_list[1:]) / 2))\n",
    "print(get_metric(ys, (sum(preds_list[1:]) + sum(global_preds_list[:1])) / 4))\n",
    "\n",
    "print('\\nresnet + convnext')\n",
    "print(get_metric(ys, sum(select_list_indices(preds_list, [0, 2])) / 2))\n",
    "print(get_metric(ys, sum(select_list_indices(global_preds_list, [0, 2])) / 2))\n",
    "print(\n",
    "    get_metric(\n",
    "        ys,\n",
    "        (\n",
    "            sum(select_list_indices(preds_list, [0, 2]))\n",
    "            + sum(select_list_indices(global_preds_list, [0, 2]))\n",
    "        )\n",
    "        / 4,\n",
    "    )\n",
    ")"
   ]
  },
  {
   "cell_type": "markdown",
   "metadata": {},
   "source": [
    "### Optimize ensemble weighting"
   ]
  },
  {
   "cell_type": "code",
   "execution_count": null,
   "metadata": {},
   "outputs": [],
   "source": [
    "np.random.seed(42)\n",
    "preds_list_cpu = [pred.cpu() for pred in preds_list]\n",
    "global_preds_list_cpu = [pred.cpu() for pred in global_preds_list]\n",
    "ys_cpu = ys.cpu()\n",
    "\n",
    "n_jobs = 36\n",
    "w_n = 6\n",
    "N = 100\n",
    "w0 = [np.random.rand(w_n) for _ in range(N)]\n",
    "w0 = [w / w.sum() for w in w0]\n",
    "\n",
    "\n",
    "def objective(weights):\n",
    "    weights = torch.tensor(weights, dtype=torch.float).cpu()\n",
    "    pred = torch.stack(preds_list_cpu + global_preds_list_cpu, dim=-1) @ weights\n",
    "    return get_metric(ys_cpu, pred)\n",
    "\n",
    "\n",
    "def minimize_loss(w0):\n",
    "    res = minimize(\n",
    "        objective,\n",
    "        w0,\n",
    "        bounds=[(0, 1)] * w_n,\n",
    "        options={'maxiter': 10000},\n",
    "        constraints=[{'type': 'eq', 'fun': lambda w: w.sum() - 1}],\n",
    "    )\n",
    "    return res.fun, res.x\n",
    "\n",
    "\n",
    "res = Pool(n_jobs).map(minimize_loss, w0)\n",
    "losses, weights = list(zip(*res))"
   ]
  }
 ],
 "metadata": {
  "kernelspec": {
   "display_name": "rsna_2024",
   "language": "python",
   "name": "python3"
  },
  "language_info": {
   "codemirror_mode": {
    "name": "ipython",
    "version": 3
   },
   "file_extension": ".py",
   "mimetype": "text/x-python",
   "name": "python",
   "nbconvert_exporter": "python",
   "pygments_lexer": "ipython3",
   "version": "3.12.4"
  }
 },
 "nbformat": 4,
 "nbformat_minor": 2
}
